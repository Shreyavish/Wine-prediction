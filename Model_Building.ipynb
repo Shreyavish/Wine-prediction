{
 "cells": [
  {
   "cell_type": "code",
   "execution_count": 6,
   "metadata": {
    "colab": {
     "base_uri": "https://localhost:8080/",
     "height": 34
    },
    "colab_type": "code",
    "id": "BnRycfcPdTtk",
    "outputId": "48f7c50d-9f84-4b6f-d1d2-69cc3f69a983"
   },
   "outputs": [
    {
     "name": "stdout",
     "output_type": "stream",
     "text": [
      "Drive already mounted at /content/drive; to attempt to forcibly remount, call drive.mount(\"/content/drive\", force_remount=True).\n"
     ]
    }
   ],
   "source": [
    "from google.colab import drive\n",
    "drive.mount('/content/drive')"
   ]
  },
  {
   "cell_type": "code",
   "execution_count": 9,
   "metadata": {
    "colab": {
     "base_uri": "https://localhost:8080/",
     "height": 34
    },
    "colab_type": "code",
    "id": "LuB7K7p4dX-o",
    "outputId": "2f4377f5-6fd5-40ef-ebcc-508e82b984a2"
   },
   "outputs": [
    {
     "name": "stdout",
     "output_type": "stream",
     "text": [
      "/content/drive\n"
     ]
    }
   ],
   "source": [
    "%cd 'drive'"
   ]
  },
  {
   "cell_type": "code",
   "execution_count": 10,
   "metadata": {
    "colab": {
     "base_uri": "https://localhost:8080/",
     "height": 34
    },
    "colab_type": "code",
    "id": "iXuzdd5ldepV",
    "outputId": "7f98f39e-70ea-4f27-e2e8-831ecaf64202"
   },
   "outputs": [
    {
     "name": "stdout",
     "output_type": "stream",
     "text": [
      "\u001b[0m\u001b[01;34m'My Drive'\u001b[0m/\n"
     ]
    }
   ],
   "source": [
    "ls"
   ]
  },
  {
   "cell_type": "code",
   "execution_count": 11,
   "metadata": {
    "colab": {
     "base_uri": "https://localhost:8080/",
     "height": 34
    },
    "colab_type": "code",
    "id": "Z_hgNpfhdt2h",
    "outputId": "733dd51f-5ce8-410b-ecb7-33c18578ae10"
   },
   "outputs": [
    {
     "name": "stdout",
     "output_type": "stream",
     "text": [
      "/content/drive/My Drive\n"
     ]
    }
   ],
   "source": [
    "%cd 'My Drive'"
   ]
  },
  {
   "cell_type": "code",
   "execution_count": 14,
   "metadata": {
    "colab": {
     "base_uri": "https://localhost:8080/",
     "height": 34
    },
    "colab_type": "code",
    "id": "FGS7X6MjzmrL",
    "outputId": "f67decbc-31e6-4897-ad6c-c154eb84d180"
   },
   "outputs": [
    {
     "name": "stdout",
     "output_type": "stream",
     "text": [
      "/content/drive/My Drive/Data\n"
     ]
    }
   ],
   "source": [
    "%cd 'Data'"
   ]
  },
  {
   "cell_type": "code",
   "execution_count": 0,
   "metadata": {
    "colab": {},
    "colab_type": "code",
    "id": "8dpnwUVgdwkv"
   },
   "outputs": [],
   "source": [
    "import numpy as np\n",
    "import pandas as pd"
   ]
  },
  {
   "cell_type": "code",
   "execution_count": 0,
   "metadata": {
    "colab": {},
    "colab_type": "code",
    "id": "e1aIbuoUd3Vt"
   },
   "outputs": [],
   "source": [
    "df= pd.read_csv('train.csv')"
   ]
  },
  {
   "cell_type": "code",
   "execution_count": 17,
   "metadata": {
    "colab": {
     "base_uri": "https://localhost:8080/",
     "height": 340
    },
    "colab_type": "code",
    "id": "LmB5QtSjd7hO",
    "outputId": "597e4b34-187d-4101-a6b9-ef0d3d4888e6"
   },
   "outputs": [
    {
     "data": {
      "text/html": [
       "<div>\n",
       "<style scoped>\n",
       "    .dataframe tbody tr th:only-of-type {\n",
       "        vertical-align: middle;\n",
       "    }\n",
       "\n",
       "    .dataframe tbody tr th {\n",
       "        vertical-align: top;\n",
       "    }\n",
       "\n",
       "    .dataframe thead th {\n",
       "        text-align: right;\n",
       "    }\n",
       "</style>\n",
       "<table border=\"1\" class=\"dataframe\">\n",
       "  <thead>\n",
       "    <tr style=\"text-align: right;\">\n",
       "      <th></th>\n",
       "      <th>user_name</th>\n",
       "      <th>country</th>\n",
       "      <th>review_title</th>\n",
       "      <th>review_description</th>\n",
       "      <th>designation</th>\n",
       "      <th>points</th>\n",
       "      <th>price</th>\n",
       "      <th>province</th>\n",
       "      <th>region_1</th>\n",
       "      <th>region_2</th>\n",
       "      <th>winery</th>\n",
       "      <th>variety</th>\n",
       "    </tr>\n",
       "  </thead>\n",
       "  <tbody>\n",
       "    <tr>\n",
       "      <th>0</th>\n",
       "      <td>NaN</td>\n",
       "      <td>Australia</td>\n",
       "      <td>Andrew Peace 2007 Peace Family Vineyard Chardo...</td>\n",
       "      <td>Classic Chardonnay aromas of apple, pear and h...</td>\n",
       "      <td>Peace Family Vineyard</td>\n",
       "      <td>83</td>\n",
       "      <td>10.0</td>\n",
       "      <td>Australia Other</td>\n",
       "      <td>South Eastern Australia</td>\n",
       "      <td>NaN</td>\n",
       "      <td>Andrew Peace</td>\n",
       "      <td>Chardonnay</td>\n",
       "    </tr>\n",
       "    <tr>\n",
       "      <th>1</th>\n",
       "      <td>@wawinereport</td>\n",
       "      <td>US</td>\n",
       "      <td>North by Northwest 2014 Red (Columbia Valley (...</td>\n",
       "      <td>This wine is near equal parts Syrah and Merlot...</td>\n",
       "      <td>NaN</td>\n",
       "      <td>89</td>\n",
       "      <td>15.0</td>\n",
       "      <td>Washington</td>\n",
       "      <td>Columbia Valley (WA)</td>\n",
       "      <td>Columbia Valley</td>\n",
       "      <td>North by Northwest</td>\n",
       "      <td>Red Blend</td>\n",
       "    </tr>\n",
       "    <tr>\n",
       "      <th>2</th>\n",
       "      <td>NaN</td>\n",
       "      <td>Italy</td>\n",
       "      <td>Renato Ratti 2007 Conca  (Barolo)</td>\n",
       "      <td>Barolo Conca opens with inky dark concentratio...</td>\n",
       "      <td>Conca</td>\n",
       "      <td>94</td>\n",
       "      <td>80.0</td>\n",
       "      <td>Piedmont</td>\n",
       "      <td>Barolo</td>\n",
       "      <td>NaN</td>\n",
       "      <td>Renato Ratti</td>\n",
       "      <td>Nebbiolo</td>\n",
       "    </tr>\n",
       "    <tr>\n",
       "      <th>3</th>\n",
       "      <td>@vossroger</td>\n",
       "      <td>France</td>\n",
       "      <td>Domaine l'Ancienne Cure 2010 L'Abbaye White (B...</td>\n",
       "      <td>It's impressive what a small addition of Sauvi...</td>\n",
       "      <td>L'Abbaye</td>\n",
       "      <td>87</td>\n",
       "      <td>22.0</td>\n",
       "      <td>Southwest France</td>\n",
       "      <td>Bergerac Sec</td>\n",
       "      <td>NaN</td>\n",
       "      <td>Domaine l'Ancienne Cure</td>\n",
       "      <td>Bordeaux-style White Blend</td>\n",
       "    </tr>\n",
       "    <tr>\n",
       "      <th>4</th>\n",
       "      <td>@vossroger</td>\n",
       "      <td>France</td>\n",
       "      <td>Château du Cèdre 2012 Le Cèdre Vintage Malbec ...</td>\n",
       "      <td>This ripe, sweet wine is rich and full of drie...</td>\n",
       "      <td>Le Cèdre Vintage</td>\n",
       "      <td>88</td>\n",
       "      <td>33.0</td>\n",
       "      <td>France Other</td>\n",
       "      <td>Vin de Liqueur</td>\n",
       "      <td>NaN</td>\n",
       "      <td>Château du Cèdre</td>\n",
       "      <td>Malbec</td>\n",
       "    </tr>\n",
       "  </tbody>\n",
       "</table>\n",
       "</div>"
      ],
      "text/plain": [
       "       user_name  ...                     variety\n",
       "0            NaN  ...                  Chardonnay\n",
       "1  @wawinereport  ...                   Red Blend\n",
       "2            NaN  ...                    Nebbiolo\n",
       "3     @vossroger  ...  Bordeaux-style White Blend\n",
       "4     @vossroger  ...                      Malbec\n",
       "\n",
       "[5 rows x 12 columns]"
      ]
     },
     "execution_count": 17,
     "metadata": {
      "tags": []
     },
     "output_type": "execute_result"
    }
   ],
   "source": [
    "df.head()"
   ]
  },
  {
   "cell_type": "code",
   "execution_count": 18,
   "metadata": {
    "colab": {
     "base_uri": "https://localhost:8080/",
     "height": 340
    },
    "colab_type": "code",
    "id": "8Fmbz6O1d8aQ",
    "outputId": "dc11639d-acab-4b1f-dda1-de19e8e995b5"
   },
   "outputs": [
    {
     "name": "stdout",
     "output_type": "stream",
     "text": [
      "<class 'pandas.core.frame.DataFrame'>\n",
      "RangeIndex: 82657 entries, 0 to 82656\n",
      "Data columns (total 12 columns):\n",
      " #   Column              Non-Null Count  Dtype  \n",
      "---  ------              --------------  -----  \n",
      " 0   user_name           63264 non-null  object \n",
      " 1   country             82622 non-null  object \n",
      " 2   review_title        82657 non-null  object \n",
      " 3   review_description  82657 non-null  object \n",
      " 4   designation         59010 non-null  object \n",
      " 5   points              82657 non-null  int64  \n",
      " 6   price               77088 non-null  float64\n",
      " 7   province            82622 non-null  object \n",
      " 8   region_1            69903 non-null  object \n",
      " 9   region_2            35949 non-null  object \n",
      " 10  winery              82657 non-null  object \n",
      " 11  variety             82657 non-null  object \n",
      "dtypes: float64(1), int64(1), object(10)\n",
      "memory usage: 7.6+ MB\n"
     ]
    }
   ],
   "source": [
    "df.info()"
   ]
  },
  {
   "cell_type": "code",
   "execution_count": 19,
   "metadata": {
    "colab": {
     "base_uri": "https://localhost:8080/",
     "height": 297
    },
    "colab_type": "code",
    "id": "FrLMNj2deBAj",
    "outputId": "a0bc3f51-5657-4725-ab64-145ba03a79d9"
   },
   "outputs": [
    {
     "data": {
      "text/html": [
       "<div>\n",
       "<style scoped>\n",
       "    .dataframe tbody tr th:only-of-type {\n",
       "        vertical-align: middle;\n",
       "    }\n",
       "\n",
       "    .dataframe tbody tr th {\n",
       "        vertical-align: top;\n",
       "    }\n",
       "\n",
       "    .dataframe thead th {\n",
       "        text-align: right;\n",
       "    }\n",
       "</style>\n",
       "<table border=\"1\" class=\"dataframe\">\n",
       "  <thead>\n",
       "    <tr style=\"text-align: right;\">\n",
       "      <th></th>\n",
       "      <th>points</th>\n",
       "      <th>price</th>\n",
       "    </tr>\n",
       "  </thead>\n",
       "  <tbody>\n",
       "    <tr>\n",
       "      <th>count</th>\n",
       "      <td>82657.000000</td>\n",
       "      <td>77088.000000</td>\n",
       "    </tr>\n",
       "    <tr>\n",
       "      <th>mean</th>\n",
       "      <td>88.544564</td>\n",
       "      <td>36.922232</td>\n",
       "    </tr>\n",
       "    <tr>\n",
       "      <th>std</th>\n",
       "      <td>3.099649</td>\n",
       "      <td>43.698346</td>\n",
       "    </tr>\n",
       "    <tr>\n",
       "      <th>min</th>\n",
       "      <td>80.000000</td>\n",
       "      <td>4.000000</td>\n",
       "    </tr>\n",
       "    <tr>\n",
       "      <th>25%</th>\n",
       "      <td>86.000000</td>\n",
       "      <td>18.000000</td>\n",
       "    </tr>\n",
       "    <tr>\n",
       "      <th>50%</th>\n",
       "      <td>88.000000</td>\n",
       "      <td>27.000000</td>\n",
       "    </tr>\n",
       "    <tr>\n",
       "      <th>75%</th>\n",
       "      <td>91.000000</td>\n",
       "      <td>45.000000</td>\n",
       "    </tr>\n",
       "    <tr>\n",
       "      <th>max</th>\n",
       "      <td>100.000000</td>\n",
       "      <td>3300.000000</td>\n",
       "    </tr>\n",
       "  </tbody>\n",
       "</table>\n",
       "</div>"
      ],
      "text/plain": [
       "             points         price\n",
       "count  82657.000000  77088.000000\n",
       "mean      88.544564     36.922232\n",
       "std        3.099649     43.698346\n",
       "min       80.000000      4.000000\n",
       "25%       86.000000     18.000000\n",
       "50%       88.000000     27.000000\n",
       "75%       91.000000     45.000000\n",
       "max      100.000000   3300.000000"
      ]
     },
     "execution_count": 19,
     "metadata": {
      "tags": []
     },
     "output_type": "execute_result"
    }
   ],
   "source": [
    "df.describe()"
   ]
  },
  {
   "cell_type": "code",
   "execution_count": 20,
   "metadata": {
    "colab": {
     "base_uri": "https://localhost:8080/",
     "height": 34
    },
    "colab_type": "code",
    "id": "O61zVN60eDsZ",
    "outputId": "076ed613-037a-456c-d181-602b563c597f"
   },
   "outputs": [
    {
     "data": {
      "text/plain": [
       "False"
      ]
     },
     "execution_count": 20,
     "metadata": {
      "tags": []
     },
     "output_type": "execute_result"
    }
   ],
   "source": [
    "#continuous data are points and price\n",
    "df['points'].isnull().any()"
   ]
  },
  {
   "cell_type": "code",
   "execution_count": 21,
   "metadata": {
    "colab": {
     "base_uri": "https://localhost:8080/",
     "height": 34
    },
    "colab_type": "code",
    "id": "0kTGtDhteFm3",
    "outputId": "70977116-0e78-4437-b757-0bb0fff64c18"
   },
   "outputs": [
    {
     "data": {
      "text/plain": [
       "True"
      ]
     },
     "execution_count": 21,
     "metadata": {
      "tags": []
     },
     "output_type": "execute_result"
    }
   ],
   "source": [
    "df['price'].isnull().any()"
   ]
  },
  {
   "cell_type": "code",
   "execution_count": 0,
   "metadata": {
    "colab": {},
    "colab_type": "code",
    "id": "X-BozyUReH_l"
   },
   "outputs": [],
   "source": [
    "\n",
    "#As we can see that price column has missing values.\n",
    "#we generally replace any continuous data with mean value\n",
    "df['price'].fillna((df['price'].mean()),inplace = True)"
   ]
  },
  {
   "cell_type": "code",
   "execution_count": 23,
   "metadata": {
    "colab": {
     "base_uri": "https://localhost:8080/",
     "height": 34
    },
    "colab_type": "code",
    "id": "gv70WXBgeJ8_",
    "outputId": "148084a8-c1f1-4460-84d5-5da262dcb58e"
   },
   "outputs": [
    {
     "data": {
      "text/plain": [
       "False"
      ]
     },
     "execution_count": 23,
     "metadata": {
      "tags": []
     },
     "output_type": "execute_result"
    }
   ],
   "source": [
    "df['price'].isnull().any()"
   ]
  },
  {
   "cell_type": "code",
   "execution_count": 24,
   "metadata": {
    "colab": {
     "base_uri": "https://localhost:8080/",
     "height": 34
    },
    "colab_type": "code",
    "id": "DdQj8hDxeMug",
    "outputId": "929e4a2c-2fe4-48b5-93c6-1d3cbda31fa6"
   },
   "outputs": [
    {
     "data": {
      "text/plain": [
       "True"
      ]
     },
     "execution_count": 24,
     "metadata": {
      "tags": []
     },
     "output_type": "execute_result"
    }
   ],
   "source": [
    "df['country'].isnull().any()"
   ]
  },
  {
   "cell_type": "code",
   "execution_count": 25,
   "metadata": {
    "colab": {
     "base_uri": "https://localhost:8080/",
     "height": 34
    },
    "colab_type": "code",
    "id": "zF4WBgC3eO5A",
    "outputId": "06ac59eb-e7c6-46b1-fe71-cd7343463732"
   },
   "outputs": [
    {
     "data": {
      "text/plain": [
       "35"
      ]
     },
     "execution_count": 25,
     "metadata": {
      "tags": []
     },
     "output_type": "execute_result"
    }
   ],
   "source": [
    "\n",
    "#As we know we need country label to fill in the missing values for province and regions,\n",
    "#we needto find a solution to clean country first\n",
    "df['country'].isnull().sum()"
   ]
  },
  {
   "cell_type": "code",
   "execution_count": 0,
   "metadata": {
    "colab": {},
    "colab_type": "code",
    "id": "DxQW4GyGeQ3u"
   },
   "outputs": [],
   "source": [
    "#From the above we can see that there are very few number of rows withcountries missing\n",
    "#so let's take only those rows which are not null\n",
    "\n",
    "df = df[df['country'].notnull()]"
   ]
  },
  {
   "cell_type": "code",
   "execution_count": 0,
   "metadata": {
    "colab": {},
    "colab_type": "code",
    "id": "CyWUe1XSeTV9"
   },
   "outputs": [],
   "source": [
    "def points_to_class(points):\n",
    "    if points in range(79,83):\n",
    "        return 1\n",
    "    elif points in range(83,87):\n",
    "        return 2\n",
    "    elif points in range(87,90):\n",
    "        return 3\n",
    "    elif points in range(90,94):\n",
    "        return 4\n",
    "    elif points in range(94,101):\n",
    "        return 5\n",
    "    \n",
    "df[\"rating\"] = df[\"points\"].apply(points_to_class)"
   ]
  },
  {
   "cell_type": "code",
   "execution_count": 28,
   "metadata": {
    "colab": {
     "base_uri": "https://localhost:8080/",
     "height": 357
    },
    "colab_type": "code",
    "id": "Uk7UrygdeVjt",
    "outputId": "891ad7c3-8afb-4251-f83f-b85517e7aed5"
   },
   "outputs": [
    {
     "name": "stdout",
     "output_type": "stream",
     "text": [
      "<class 'pandas.core.frame.DataFrame'>\n",
      "Int64Index: 82622 entries, 0 to 82656\n",
      "Data columns (total 13 columns):\n",
      " #   Column              Non-Null Count  Dtype  \n",
      "---  ------              --------------  -----  \n",
      " 0   user_name           63229 non-null  object \n",
      " 1   country             82622 non-null  object \n",
      " 2   review_title        82622 non-null  object \n",
      " 3   review_description  82622 non-null  object \n",
      " 4   designation         58980 non-null  object \n",
      " 5   points              82622 non-null  int64  \n",
      " 6   price               82622 non-null  float64\n",
      " 7   province            82622 non-null  object \n",
      " 8   region_1            69903 non-null  object \n",
      " 9   region_2            35949 non-null  object \n",
      " 10  winery              82622 non-null  object \n",
      " 11  variety             82622 non-null  object \n",
      " 12  rating              82622 non-null  int64  \n",
      "dtypes: float64(1), int64(2), object(10)\n",
      "memory usage: 8.8+ MB\n"
     ]
    }
   ],
   "source": [
    "df.info()"
   ]
  },
  {
   "cell_type": "code",
   "execution_count": 0,
   "metadata": {
    "colab": {},
    "colab_type": "code",
    "id": "1kKifRg4eYdH"
   },
   "outputs": [],
   "source": [
    "def descriptions_to_word(rating):\n",
    "  if rating == 1:\n",
    "    return 'aroma'\n",
    "  elif rating == 2:\n",
    "    return 'finish'\n",
    "  elif rating == 3:\n",
    "    return 'note'\n",
    "  elif rating == 4:\n",
    "    return 'rich'\n",
    "  else:\n",
    "    return 'fruit'"
   ]
  },
  {
   "cell_type": "code",
   "execution_count": 0,
   "metadata": {
    "colab": {},
    "colab_type": "code",
    "id": "lnoh0gWCfRfz"
   },
   "outputs": [],
   "source": [
    "df['one_word_review'] = df[\"rating\"].apply(descriptions_to_word)"
   ]
  },
  {
   "cell_type": "code",
   "execution_count": 31,
   "metadata": {
    "colab": {
     "base_uri": "https://localhost:8080/",
     "height": 513
    },
    "colab_type": "code",
    "id": "JyRGKaufgoA0",
    "outputId": "bf33a17e-bd1b-4e9c-fc9b-f4d603bf2114"
   },
   "outputs": [
    {
     "data": {
      "text/html": [
       "<div>\n",
       "<style scoped>\n",
       "    .dataframe tbody tr th:only-of-type {\n",
       "        vertical-align: middle;\n",
       "    }\n",
       "\n",
       "    .dataframe tbody tr th {\n",
       "        vertical-align: top;\n",
       "    }\n",
       "\n",
       "    .dataframe thead th {\n",
       "        text-align: right;\n",
       "    }\n",
       "</style>\n",
       "<table border=\"1\" class=\"dataframe\">\n",
       "  <thead>\n",
       "    <tr style=\"text-align: right;\">\n",
       "      <th></th>\n",
       "      <th>user_name</th>\n",
       "      <th>country</th>\n",
       "      <th>review_title</th>\n",
       "      <th>review_description</th>\n",
       "      <th>designation</th>\n",
       "      <th>points</th>\n",
       "      <th>price</th>\n",
       "      <th>province</th>\n",
       "      <th>region_1</th>\n",
       "      <th>region_2</th>\n",
       "      <th>winery</th>\n",
       "      <th>variety</th>\n",
       "      <th>rating</th>\n",
       "      <th>one_word_review</th>\n",
       "    </tr>\n",
       "  </thead>\n",
       "  <tbody>\n",
       "    <tr>\n",
       "      <th>0</th>\n",
       "      <td>NaN</td>\n",
       "      <td>Australia</td>\n",
       "      <td>Andrew Peace 2007 Peace Family Vineyard Chardo...</td>\n",
       "      <td>Classic Chardonnay aromas of apple, pear and h...</td>\n",
       "      <td>Peace Family Vineyard</td>\n",
       "      <td>83</td>\n",
       "      <td>10.0</td>\n",
       "      <td>Australia Other</td>\n",
       "      <td>South Eastern Australia</td>\n",
       "      <td>NaN</td>\n",
       "      <td>Andrew Peace</td>\n",
       "      <td>Chardonnay</td>\n",
       "      <td>2</td>\n",
       "      <td>finish</td>\n",
       "    </tr>\n",
       "    <tr>\n",
       "      <th>1</th>\n",
       "      <td>@wawinereport</td>\n",
       "      <td>US</td>\n",
       "      <td>North by Northwest 2014 Red (Columbia Valley (...</td>\n",
       "      <td>This wine is near equal parts Syrah and Merlot...</td>\n",
       "      <td>NaN</td>\n",
       "      <td>89</td>\n",
       "      <td>15.0</td>\n",
       "      <td>Washington</td>\n",
       "      <td>Columbia Valley (WA)</td>\n",
       "      <td>Columbia Valley</td>\n",
       "      <td>North by Northwest</td>\n",
       "      <td>Red Blend</td>\n",
       "      <td>3</td>\n",
       "      <td>note</td>\n",
       "    </tr>\n",
       "    <tr>\n",
       "      <th>2</th>\n",
       "      <td>NaN</td>\n",
       "      <td>Italy</td>\n",
       "      <td>Renato Ratti 2007 Conca  (Barolo)</td>\n",
       "      <td>Barolo Conca opens with inky dark concentratio...</td>\n",
       "      <td>Conca</td>\n",
       "      <td>94</td>\n",
       "      <td>80.0</td>\n",
       "      <td>Piedmont</td>\n",
       "      <td>Barolo</td>\n",
       "      <td>NaN</td>\n",
       "      <td>Renato Ratti</td>\n",
       "      <td>Nebbiolo</td>\n",
       "      <td>5</td>\n",
       "      <td>fruit</td>\n",
       "    </tr>\n",
       "    <tr>\n",
       "      <th>3</th>\n",
       "      <td>@vossroger</td>\n",
       "      <td>France</td>\n",
       "      <td>Domaine l'Ancienne Cure 2010 L'Abbaye White (B...</td>\n",
       "      <td>It's impressive what a small addition of Sauvi...</td>\n",
       "      <td>L'Abbaye</td>\n",
       "      <td>87</td>\n",
       "      <td>22.0</td>\n",
       "      <td>Southwest France</td>\n",
       "      <td>Bergerac Sec</td>\n",
       "      <td>NaN</td>\n",
       "      <td>Domaine l'Ancienne Cure</td>\n",
       "      <td>Bordeaux-style White Blend</td>\n",
       "      <td>3</td>\n",
       "      <td>note</td>\n",
       "    </tr>\n",
       "    <tr>\n",
       "      <th>4</th>\n",
       "      <td>@vossroger</td>\n",
       "      <td>France</td>\n",
       "      <td>Château du Cèdre 2012 Le Cèdre Vintage Malbec ...</td>\n",
       "      <td>This ripe, sweet wine is rich and full of drie...</td>\n",
       "      <td>Le Cèdre Vintage</td>\n",
       "      <td>88</td>\n",
       "      <td>33.0</td>\n",
       "      <td>France Other</td>\n",
       "      <td>Vin de Liqueur</td>\n",
       "      <td>NaN</td>\n",
       "      <td>Château du Cèdre</td>\n",
       "      <td>Malbec</td>\n",
       "      <td>3</td>\n",
       "      <td>note</td>\n",
       "    </tr>\n",
       "  </tbody>\n",
       "</table>\n",
       "</div>"
      ],
      "text/plain": [
       "       user_name    country  ... rating one_word_review\n",
       "0            NaN  Australia  ...      2          finish\n",
       "1  @wawinereport         US  ...      3            note\n",
       "2            NaN      Italy  ...      5           fruit\n",
       "3     @vossroger     France  ...      3            note\n",
       "4     @vossroger     France  ...      3            note\n",
       "\n",
       "[5 rows x 14 columns]"
      ]
     },
     "execution_count": 31,
     "metadata": {
      "tags": []
     },
     "output_type": "execute_result"
    }
   ],
   "source": [
    "df.head()"
   ]
  },
  {
   "cell_type": "code",
   "execution_count": 32,
   "metadata": {
    "colab": {
     "base_uri": "https://localhost:8080/",
     "height": 680
    },
    "colab_type": "code",
    "id": "9aw71k4Hgp3r",
    "outputId": "df68d0da-2bb6-44e1-9cff-c3a13d173247"
   },
   "outputs": [
    {
     "data": {
      "text/plain": [
       "US                38573\n",
       "France            15948\n",
       "Italy              9112\n",
       "Portugal           3197\n",
       "Chile              2891\n",
       "Spain              2755\n",
       "Argentina          2570\n",
       "Austria            1892\n",
       "Germany            1573\n",
       "New Zealand        1121\n",
       "Australia          1028\n",
       "South Africa        727\n",
       "Israel              320\n",
       "Canada              176\n",
       "Greece              139\n",
       "Bulgaria             93\n",
       "Romania              80\n",
       "England              62\n",
       "Slovenia             42\n",
       "Mexico               38\n",
       "Hungary              35\n",
       "Moldova              35\n",
       "Turkey               33\n",
       "Uruguay              33\n",
       "Lebanon              28\n",
       "Brazil               28\n",
       "Morocco              21\n",
       "Georgia              12\n",
       "Croatia              12\n",
       "Ukraine              11\n",
       "Peru                  8\n",
       "Cyprus                6\n",
       "Macedonia             5\n",
       "Switzerland           5\n",
       "Luxembourg            5\n",
       "Serbia                4\n",
       "Czech Republic        3\n",
       "India                 1\n",
       "Name: country, dtype: int64"
      ]
     },
     "execution_count": 32,
     "metadata": {
      "tags": []
     },
     "output_type": "execute_result"
    }
   ],
   "source": [
    "df['country'].value_counts()"
   ]
  },
  {
   "cell_type": "code",
   "execution_count": 0,
   "metadata": {
    "colab": {},
    "colab_type": "code",
    "id": "CL2Y8cPKhCNR"
   },
   "outputs": [],
   "source": [
    "\n",
    "s = df['country'].value_counts()\n",
    "df['country'] = np.where(df['country'].isin(s.index[s >= 2000]), df['country'], 'Other')"
   ]
  },
  {
   "cell_type": "code",
   "execution_count": 34,
   "metadata": {
    "colab": {
     "base_uri": "https://localhost:8080/",
     "height": 170
    },
    "colab_type": "code",
    "id": "wPjR8OwHhEIY",
    "outputId": "9c41dfde-df7e-46d3-98df-d876829c1eb5"
   },
   "outputs": [
    {
     "data": {
      "text/plain": [
       "US           38573\n",
       "France       15948\n",
       "Italy         9112\n",
       "Other         7576\n",
       "Portugal      3197\n",
       "Chile         2891\n",
       "Spain         2755\n",
       "Argentina     2570\n",
       "Name: country, dtype: int64"
      ]
     },
     "execution_count": 34,
     "metadata": {
      "tags": []
     },
     "output_type": "execute_result"
    }
   ],
   "source": [
    "df['country'].value_counts()"
   ]
  },
  {
   "cell_type": "code",
   "execution_count": 35,
   "metadata": {
    "colab": {
     "base_uri": "https://localhost:8080/",
     "height": 221
    },
    "colab_type": "code",
    "id": "UCqnvq5lhHg7",
    "outputId": "7dd99810-cd8b-4267-f8d9-f21f818cdd70"
   },
   "outputs": [
    {
     "data": {
      "text/plain": [
       "Testarossa               175\n",
       "Louis Latour             168\n",
       "Williams Selyem          165\n",
       "Chateau Ste. Michelle    163\n",
       "Georges Duboeuf          163\n",
       "                        ... \n",
       "Pugilist                   1\n",
       "Abad                       1\n",
       "Château de Bergun          1\n",
       "Cerebella                  1\n",
       "Inkling                    1\n",
       "Name: winery, Length: 13776, dtype: int64"
      ]
     },
     "execution_count": 35,
     "metadata": {
      "tags": []
     },
     "output_type": "execute_result"
    }
   ],
   "source": [
    "df['winery'].value_counts()"
   ]
  },
  {
   "cell_type": "code",
   "execution_count": 0,
   "metadata": {
    "colab": {},
    "colab_type": "code",
    "id": "tN02KbuJhSWJ"
   },
   "outputs": [],
   "source": [
    "s = df['winery'].value_counts()\n",
    "df['winery'] = np.where(df['winery'].isin(s.index[s >= 90]), df['winery'], 'Other')"
   ]
  },
  {
   "cell_type": "code",
   "execution_count": 37,
   "metadata": {
    "colab": {
     "base_uri": "https://localhost:8080/",
     "height": 323
    },
    "colab_type": "code",
    "id": "_7bc-NrEhwro",
    "outputId": "09bf8afb-a5c7-4073-df28-932d38bda594"
   },
   "outputs": [
    {
     "data": {
      "text/plain": [
       "Other                         80620\n",
       "Testarossa                      175\n",
       "Louis Latour                    168\n",
       "Williams Selyem                 165\n",
       "Chateau Ste. Michelle           163\n",
       "Georges Duboeuf                 163\n",
       "Wines & Winemakers              142\n",
       "DFJ Vinhos                      131\n",
       "Concha y Toro                   112\n",
       "Columbia Crest                  112\n",
       "Kendall-Jackson                 100\n",
       "Siduri                           99\n",
       "Lynmar                           98\n",
       "Gary Farrell                     98\n",
       "Albert Bichot                    94\n",
       "Jean-Luc and Paul Aegerter       92\n",
       "Montes                           90\n",
       "Name: winery, dtype: int64"
      ]
     },
     "execution_count": 37,
     "metadata": {
      "tags": []
     },
     "output_type": "execute_result"
    }
   ],
   "source": [
    "df['winery'].value_counts()"
   ]
  },
  {
   "cell_type": "code",
   "execution_count": 41,
   "metadata": {
    "colab": {
     "base_uri": "https://localhost:8080/",
     "height": 221
    },
    "colab_type": "code",
    "id": "iwv0b1Gkhx8c",
    "outputId": "27f3d84e-1860-4bc2-fc77-486185fa6478"
   },
   "outputs": [
    {
     "data": {
      "text/plain": [
       "California        25736\n",
       "Washington         6060\n",
       "Bordeaux           4690\n",
       "Oregon             3900\n",
       "Tuscany            3780\n",
       "                  ...  \n",
       "Portugal              1\n",
       "Santa Catarina        1\n",
       "Ceres Plateau         1\n",
       "Távora-Varosa         1\n",
       "Dan                   1\n",
       "Name: province, Length: 358, dtype: int64"
      ]
     },
     "execution_count": 41,
     "metadata": {
      "tags": []
     },
     "output_type": "execute_result"
    }
   ],
   "source": [
    "df['province'].value_counts()"
   ]
  },
  {
   "cell_type": "code",
   "execution_count": 0,
   "metadata": {
    "colab": {},
    "colab_type": "code",
    "id": "HmFMT21T0BAR"
   },
   "outputs": [],
   "source": [
    "s = df['province'].value_counts()\n",
    "df['province'] = np.where(df['province'].isin(s.index[s >= 3500]), df['province'], 'Other')"
   ]
  },
  {
   "cell_type": "code",
   "execution_count": 65,
   "metadata": {
    "colab": {
     "base_uri": "https://localhost:8080/",
     "height": 221
    },
    "colab_type": "code",
    "id": "aZ66OEQn1su0",
    "outputId": "5b70250d-24c6-4fdd-f5a0-990bcfaff58c"
   },
   "outputs": [
    {
     "data": {
      "text/plain": [
       "Napa Valley                3334\n",
       "Columbia Valley (WA)       2951\n",
       "Russian River Valley       2362\n",
       "California                 1902\n",
       "Willamette Valley          1739\n",
       "                           ... \n",
       "Coteaux d'Ancenis             1\n",
       "Barossa-Adelaide Hills        1\n",
       "Vin de Pays de France         1\n",
       "Passito di Pantelleria        1\n",
       "Montepulciano d'Abruzzo       1\n",
       "Name: region_1, Length: 1019, dtype: int64"
      ]
     },
     "execution_count": 65,
     "metadata": {
      "tags": []
     },
     "output_type": "execute_result"
    }
   ],
   "source": [
    "df['region_1'].value_counts()"
   ]
  },
  {
   "cell_type": "code",
   "execution_count": 0,
   "metadata": {
    "colab": {},
    "colab_type": "code",
    "id": "9izl6Qzz1yNy"
   },
   "outputs": [],
   "source": [
    "s = df['region_1'].value_counts()\n",
    "df['region_1'] = np.where(df['region_1'].isin(s.index[s >= 1000]), df['region_1'], 'Other')"
   ]
  },
  {
   "cell_type": "code",
   "execution_count": 71,
   "metadata": {
    "colab": {
     "base_uri": "https://localhost:8080/",
     "height": 34
    },
    "colab_type": "code",
    "id": "COIZ0HTa17AR",
    "outputId": "2c81b340-a8e6-4441-9ead-1c2dbce10252"
   },
   "outputs": [
    {
     "data": {
      "text/plain": [
       "82622"
      ]
     },
     "execution_count": 71,
     "metadata": {
      "tags": []
     },
     "output_type": "execute_result"
    }
   ],
   "source": [
    "df['region_1'].value_counts().sum() #nan also gets replaced by other"
   ]
  },
  {
   "cell_type": "code",
   "execution_count": 84,
   "metadata": {
    "colab": {
     "base_uri": "https://localhost:8080/",
     "height": 323
    },
    "colab_type": "code",
    "id": "ZMj1LvYd2-q2",
    "outputId": "0dcaf361-cda1-4929-d1be-1ba50b520fd9"
   },
   "outputs": [
    {
     "data": {
      "text/plain": [
       "Central Coast        7503\n",
       "Sonoma               6776\n",
       "Columbia Valley      5679\n",
       "Napa                 5119\n",
       "Willamette Valley    2605\n",
       "California Other     1926\n",
       "Finger Lakes         1314\n",
       "Napa-Sonoma           919\n",
       "Sierra Foothills      772\n",
       "Central Valley        641\n",
       "Southern Oregon       548\n",
       "Oregon Other          519\n",
       "Long Island           503\n",
       "North Coast           411\n",
       "Washington Other      380\n",
       "South Coast           173\n",
       "New York Other        161\n",
       "Name: region_2, dtype: int64"
      ]
     },
     "execution_count": 84,
     "metadata": {
      "tags": []
     },
     "output_type": "execute_result"
    }
   ],
   "source": [
    "df['region_2'].value_counts()"
   ]
  },
  {
   "cell_type": "code",
   "execution_count": 0,
   "metadata": {
    "colab": {},
    "colab_type": "code",
    "id": "qVW_2nPf3ESG"
   },
   "outputs": [],
   "source": [
    "s = df['region_2'].value_counts()\n",
    "df['region_2'] = np.where(df['region_2'].isin(s.index[s >= 700]), df['region_2'], 'Other')"
   ]
  },
  {
   "cell_type": "code",
   "execution_count": 98,
   "metadata": {
    "colab": {
     "base_uri": "https://localhost:8080/",
     "height": 221
    },
    "colab_type": "code",
    "id": "RLKfAhNo350s",
    "outputId": "4f5768e7-ab2a-4e59-fe69-ffac4fedebfc"
   },
   "outputs": [
    {
     "data": {
      "text/plain": [
       "Reserve                                 1380\n",
       "Estate                                   898\n",
       "Reserva                                  743\n",
       "Estate Grown                             425\n",
       "Riserva                                  415\n",
       "                                        ... \n",
       "Old Hat                                    1\n",
       "Estate St. Helena Vineyard Rosato Di       1\n",
       "Bianco del Mulino                          1\n",
       "Quinta do Cachão                           1\n",
       "Schiaccianoci                              1\n",
       "Name: designation, Length: 26407, dtype: int64"
      ]
     },
     "execution_count": 98,
     "metadata": {
      "tags": []
     },
     "output_type": "execute_result"
    }
   ],
   "source": [
    "df['designation'].value_counts()"
   ]
  },
  {
   "cell_type": "code",
   "execution_count": 0,
   "metadata": {
    "colab": {},
    "colab_type": "code",
    "id": "i8Imdcyx4C1f"
   },
   "outputs": [],
   "source": [
    "s = df['designation'].value_counts()\n",
    "df['designation'] = np.where(df['designation'].isin(s.index[s >= 300]), df['designation'], 'Other')"
   ]
  },
  {
   "cell_type": "code",
   "execution_count": 102,
   "metadata": {
    "colab": {
     "base_uri": "https://localhost:8080/",
     "height": 153
    },
    "colab_type": "code",
    "id": "IeIBGvNN4L1T",
    "outputId": "16abfd0f-82d5-4cb2-8fc4-3984daead499"
   },
   "outputs": [
    {
     "data": {
      "text/plain": [
       "Other            78458\n",
       "Reserve           1380\n",
       "Estate             898\n",
       "Reserva            743\n",
       "Estate Grown       425\n",
       "Riserva            415\n",
       "Barrel sample      303\n",
       "Name: designation, dtype: int64"
      ]
     },
     "execution_count": 102,
     "metadata": {
      "tags": []
     },
     "output_type": "execute_result"
    }
   ],
   "source": [
    "df['designation'].value_counts()"
   ]
  },
  {
   "cell_type": "markdown",
   "metadata": {
    "colab_type": "text",
    "id": "N5OH5xioigpM"
   },
   "source": [
    "MODEL BUILDING\n"
   ]
  },
  {
   "cell_type": "code",
   "execution_count": 0,
   "metadata": {
    "colab": {},
    "colab_type": "code",
    "id": "hnWl3ou2iBGY"
   },
   "outputs": [],
   "source": [
    "X= df[['price','rating','one_word_review','country','province','points','region_1','region_2','designation']]\n",
    "#for price,rating,onewordreview,country,province,points ---> 34.45 accuracy\n",
    "#for price,rating,onewordreview,country,province,points,region_1 ---> 37.5 accuracy\n",
    "#for price,rating,onewordreview,country,province,points,region_1,'region_2' ---> 38.8 accuracy\n",
    "#for price,rating,onewordreview,country,province,points,region_1,'region_2','designation' ---> 39 accuracy"
   ]
  },
  {
   "cell_type": "code",
   "execution_count": 0,
   "metadata": {
    "colab": {},
    "colab_type": "code",
    "id": "dlBeBw7CsPXH"
   },
   "outputs": [],
   "source": []
  },
  {
   "cell_type": "code",
   "execution_count": 104,
   "metadata": {
    "colab": {
     "base_uri": "https://localhost:8080/",
     "height": 204
    },
    "colab_type": "code",
    "id": "3bV3KezeiQYf",
    "outputId": "b48ac254-5226-4def-e869-d9fe1d95c293"
   },
   "outputs": [
    {
     "data": {
      "text/html": [
       "<div>\n",
       "<style scoped>\n",
       "    .dataframe tbody tr th:only-of-type {\n",
       "        vertical-align: middle;\n",
       "    }\n",
       "\n",
       "    .dataframe tbody tr th {\n",
       "        vertical-align: top;\n",
       "    }\n",
       "\n",
       "    .dataframe thead th {\n",
       "        text-align: right;\n",
       "    }\n",
       "</style>\n",
       "<table border=\"1\" class=\"dataframe\">\n",
       "  <thead>\n",
       "    <tr style=\"text-align: right;\">\n",
       "      <th></th>\n",
       "      <th>price</th>\n",
       "      <th>rating</th>\n",
       "      <th>one_word_review</th>\n",
       "      <th>country</th>\n",
       "      <th>province</th>\n",
       "      <th>points</th>\n",
       "      <th>region_1</th>\n",
       "      <th>region_2</th>\n",
       "      <th>designation</th>\n",
       "    </tr>\n",
       "  </thead>\n",
       "  <tbody>\n",
       "    <tr>\n",
       "      <th>0</th>\n",
       "      <td>10.0</td>\n",
       "      <td>2</td>\n",
       "      <td>finish</td>\n",
       "      <td>Other</td>\n",
       "      <td>Other</td>\n",
       "      <td>83</td>\n",
       "      <td>Other</td>\n",
       "      <td>Other</td>\n",
       "      <td>Other</td>\n",
       "    </tr>\n",
       "    <tr>\n",
       "      <th>1</th>\n",
       "      <td>15.0</td>\n",
       "      <td>3</td>\n",
       "      <td>note</td>\n",
       "      <td>US</td>\n",
       "      <td>Washington</td>\n",
       "      <td>89</td>\n",
       "      <td>Columbia Valley (WA)</td>\n",
       "      <td>Columbia Valley</td>\n",
       "      <td>Other</td>\n",
       "    </tr>\n",
       "    <tr>\n",
       "      <th>2</th>\n",
       "      <td>80.0</td>\n",
       "      <td>5</td>\n",
       "      <td>fruit</td>\n",
       "      <td>Italy</td>\n",
       "      <td>Other</td>\n",
       "      <td>94</td>\n",
       "      <td>Barolo</td>\n",
       "      <td>Other</td>\n",
       "      <td>Other</td>\n",
       "    </tr>\n",
       "    <tr>\n",
       "      <th>3</th>\n",
       "      <td>22.0</td>\n",
       "      <td>3</td>\n",
       "      <td>note</td>\n",
       "      <td>France</td>\n",
       "      <td>Other</td>\n",
       "      <td>87</td>\n",
       "      <td>Other</td>\n",
       "      <td>Other</td>\n",
       "      <td>Other</td>\n",
       "    </tr>\n",
       "    <tr>\n",
       "      <th>4</th>\n",
       "      <td>33.0</td>\n",
       "      <td>3</td>\n",
       "      <td>note</td>\n",
       "      <td>France</td>\n",
       "      <td>Other</td>\n",
       "      <td>88</td>\n",
       "      <td>Other</td>\n",
       "      <td>Other</td>\n",
       "      <td>Other</td>\n",
       "    </tr>\n",
       "  </tbody>\n",
       "</table>\n",
       "</div>"
      ],
      "text/plain": [
       "   price  rating  ...         region_2 designation\n",
       "0   10.0       2  ...            Other       Other\n",
       "1   15.0       3  ...  Columbia Valley       Other\n",
       "2   80.0       5  ...            Other       Other\n",
       "3   22.0       3  ...            Other       Other\n",
       "4   33.0       3  ...            Other       Other\n",
       "\n",
       "[5 rows x 9 columns]"
      ]
     },
     "execution_count": 104,
     "metadata": {
      "tags": []
     },
     "output_type": "execute_result"
    }
   ],
   "source": [
    "X.head()"
   ]
  },
  {
   "cell_type": "code",
   "execution_count": 105,
   "metadata": {
    "colab": {
     "base_uri": "https://localhost:8080/",
     "height": 419
    },
    "colab_type": "code",
    "id": "oFbXSw5xiwSA",
    "outputId": "73baf78b-f541-4762-b98a-0d0e244eaefe"
   },
   "outputs": [
    {
     "data": {
      "text/html": [
       "<div>\n",
       "<style scoped>\n",
       "    .dataframe tbody tr th:only-of-type {\n",
       "        vertical-align: middle;\n",
       "    }\n",
       "\n",
       "    .dataframe tbody tr th {\n",
       "        vertical-align: top;\n",
       "    }\n",
       "\n",
       "    .dataframe thead th {\n",
       "        text-align: right;\n",
       "    }\n",
       "</style>\n",
       "<table border=\"1\" class=\"dataframe\">\n",
       "  <thead>\n",
       "    <tr style=\"text-align: right;\">\n",
       "      <th></th>\n",
       "      <th>price</th>\n",
       "      <th>rating</th>\n",
       "      <th>one_word_review</th>\n",
       "      <th>country</th>\n",
       "      <th>province</th>\n",
       "      <th>points</th>\n",
       "      <th>region_1</th>\n",
       "      <th>region_2</th>\n",
       "      <th>designation</th>\n",
       "    </tr>\n",
       "  </thead>\n",
       "  <tbody>\n",
       "    <tr>\n",
       "      <th>0</th>\n",
       "      <td>10.0</td>\n",
       "      <td>2</td>\n",
       "      <td>finish</td>\n",
       "      <td>Other</td>\n",
       "      <td>Other</td>\n",
       "      <td>83</td>\n",
       "      <td>Other</td>\n",
       "      <td>Other</td>\n",
       "      <td>Other</td>\n",
       "    </tr>\n",
       "    <tr>\n",
       "      <th>1</th>\n",
       "      <td>15.0</td>\n",
       "      <td>3</td>\n",
       "      <td>note</td>\n",
       "      <td>US</td>\n",
       "      <td>Washington</td>\n",
       "      <td>89</td>\n",
       "      <td>Columbia Valley (WA)</td>\n",
       "      <td>Columbia Valley</td>\n",
       "      <td>Other</td>\n",
       "    </tr>\n",
       "    <tr>\n",
       "      <th>2</th>\n",
       "      <td>80.0</td>\n",
       "      <td>5</td>\n",
       "      <td>fruit</td>\n",
       "      <td>Italy</td>\n",
       "      <td>Other</td>\n",
       "      <td>94</td>\n",
       "      <td>Barolo</td>\n",
       "      <td>Other</td>\n",
       "      <td>Other</td>\n",
       "    </tr>\n",
       "    <tr>\n",
       "      <th>3</th>\n",
       "      <td>22.0</td>\n",
       "      <td>3</td>\n",
       "      <td>note</td>\n",
       "      <td>France</td>\n",
       "      <td>Other</td>\n",
       "      <td>87</td>\n",
       "      <td>Other</td>\n",
       "      <td>Other</td>\n",
       "      <td>Other</td>\n",
       "    </tr>\n",
       "    <tr>\n",
       "      <th>4</th>\n",
       "      <td>33.0</td>\n",
       "      <td>3</td>\n",
       "      <td>note</td>\n",
       "      <td>France</td>\n",
       "      <td>Other</td>\n",
       "      <td>88</td>\n",
       "      <td>Other</td>\n",
       "      <td>Other</td>\n",
       "      <td>Other</td>\n",
       "    </tr>\n",
       "    <tr>\n",
       "      <th>...</th>\n",
       "      <td>...</td>\n",
       "      <td>...</td>\n",
       "      <td>...</td>\n",
       "      <td>...</td>\n",
       "      <td>...</td>\n",
       "      <td>...</td>\n",
       "      <td>...</td>\n",
       "      <td>...</td>\n",
       "      <td>...</td>\n",
       "    </tr>\n",
       "    <tr>\n",
       "      <th>82652</th>\n",
       "      <td>12.0</td>\n",
       "      <td>2</td>\n",
       "      <td>finish</td>\n",
       "      <td>Spain</td>\n",
       "      <td>Other</td>\n",
       "      <td>84</td>\n",
       "      <td>Other</td>\n",
       "      <td>Other</td>\n",
       "      <td>Other</td>\n",
       "    </tr>\n",
       "    <tr>\n",
       "      <th>82653</th>\n",
       "      <td>21.0</td>\n",
       "      <td>2</td>\n",
       "      <td>finish</td>\n",
       "      <td>US</td>\n",
       "      <td>Other</td>\n",
       "      <td>85</td>\n",
       "      <td>Other</td>\n",
       "      <td>Other</td>\n",
       "      <td>Other</td>\n",
       "    </tr>\n",
       "    <tr>\n",
       "      <th>82654</th>\n",
       "      <td>14.0</td>\n",
       "      <td>3</td>\n",
       "      <td>note</td>\n",
       "      <td>France</td>\n",
       "      <td>Other</td>\n",
       "      <td>87</td>\n",
       "      <td>Other</td>\n",
       "      <td>Other</td>\n",
       "      <td>Other</td>\n",
       "    </tr>\n",
       "    <tr>\n",
       "      <th>82655</th>\n",
       "      <td>20.0</td>\n",
       "      <td>4</td>\n",
       "      <td>rich</td>\n",
       "      <td>France</td>\n",
       "      <td>Bordeaux</td>\n",
       "      <td>91</td>\n",
       "      <td>Other</td>\n",
       "      <td>Other</td>\n",
       "      <td>Other</td>\n",
       "    </tr>\n",
       "    <tr>\n",
       "      <th>82656</th>\n",
       "      <td>50.0</td>\n",
       "      <td>4</td>\n",
       "      <td>rich</td>\n",
       "      <td>US</td>\n",
       "      <td>California</td>\n",
       "      <td>92</td>\n",
       "      <td>Other</td>\n",
       "      <td>Napa</td>\n",
       "      <td>Estate</td>\n",
       "    </tr>\n",
       "  </tbody>\n",
       "</table>\n",
       "<p>82622 rows × 9 columns</p>\n",
       "</div>"
      ],
      "text/plain": [
       "       price  rating  ...         region_2 designation\n",
       "0       10.0       2  ...            Other       Other\n",
       "1       15.0       3  ...  Columbia Valley       Other\n",
       "2       80.0       5  ...            Other       Other\n",
       "3       22.0       3  ...            Other       Other\n",
       "4       33.0       3  ...            Other       Other\n",
       "...      ...     ...  ...              ...         ...\n",
       "82652   12.0       2  ...            Other       Other\n",
       "82653   21.0       2  ...            Other       Other\n",
       "82654   14.0       3  ...            Other       Other\n",
       "82655   20.0       4  ...            Other       Other\n",
       "82656   50.0       4  ...             Napa      Estate\n",
       "\n",
       "[82622 rows x 9 columns]"
      ]
     },
     "execution_count": 105,
     "metadata": {
      "tags": []
     },
     "output_type": "execute_result"
    }
   ],
   "source": [
    "X_2 =X\n",
    "X_2"
   ]
  },
  {
   "cell_type": "code",
   "execution_count": 0,
   "metadata": {
    "colab": {},
    "colab_type": "code",
    "id": "BNb0zRRXi8Aj"
   },
   "outputs": [],
   "source": [
    "X_2 = pd.get_dummies(X_2, columns=['one_word_review','country','province','region_1','region_2','designation'])\n"
   ]
  },
  {
   "cell_type": "code",
   "execution_count": 107,
   "metadata": {
    "colab": {
     "base_uri": "https://localhost:8080/",
     "height": 136
    },
    "colab_type": "code",
    "id": "-Ta8x0MJjynR",
    "outputId": "87f97a7b-dc8a-414d-eae5-f335643c8ff8"
   },
   "outputs": [
    {
     "data": {
      "text/plain": [
       "array([[10.,  2., 83., ...,  0.,  0.,  0.],\n",
       "       [15.,  3., 89., ...,  0.,  0.,  0.],\n",
       "       [80.,  5., 94., ...,  0.,  0.,  0.],\n",
       "       ...,\n",
       "       [14.,  3., 87., ...,  0.,  0.,  0.],\n",
       "       [20.,  4., 91., ...,  0.,  0.,  0.],\n",
       "       [50.,  4., 92., ...,  0.,  0.,  0.]])"
      ]
     },
     "execution_count": 107,
     "metadata": {
      "tags": []
     },
     "output_type": "execute_result"
    }
   ],
   "source": [
    "\n",
    "X_2 = X_2.iloc[:,:].values\n",
    "X_2\n"
   ]
  },
  {
   "cell_type": "code",
   "execution_count": 108,
   "metadata": {
    "colab": {
     "base_uri": "https://localhost:8080/",
     "height": 34
    },
    "colab_type": "code",
    "id": "gAcXcva_mGPo",
    "outputId": "bd5d99b6-aa9f-47a9-a177-894e400c91d6"
   },
   "outputs": [
    {
     "data": {
      "text/plain": [
       "array([ 5, 17, 11, ...,  6,  0,  3])"
      ]
     },
     "execution_count": 108,
     "metadata": {
      "tags": []
     },
     "output_type": "execute_result"
    }
   ],
   "source": [
    "y = df['variety']\n",
    "#let us do the label encoding to our variety variable which is the target\n",
    "from sklearn.preprocessing import LabelEncoder\n",
    "labelencoder_y = LabelEncoder()\n",
    "y = labelencoder_y.fit_transform(y)\n",
    "y"
   ]
  },
  {
   "cell_type": "code",
   "execution_count": 0,
   "metadata": {
    "colab": {},
    "colab_type": "code",
    "id": "Py5i_TgwkJ7Z"
   },
   "outputs": [],
   "source": [
    "\n",
    "from sklearn.model_selection import train_test_split\n",
    "X_train, X_cv, y_train, y_cv = train_test_split(X_2, y, test_size = 0.2, random_state = 0)"
   ]
  },
  {
   "cell_type": "code",
   "execution_count": 0,
   "metadata": {
    "colab": {},
    "colab_type": "code",
    "id": "VF9xbXmolhZi"
   },
   "outputs": [],
   "source": [
    "from sklearn.ensemble import RandomForestClassifier\n",
    "\n",
    "regressor = RandomForestClassifier(n_estimators=20, random_state=0)\n",
    "regressor.fit(X_train, y_train)\n",
    "y_pred = regressor.predict(X_cv)"
   ]
  },
  {
   "cell_type": "code",
   "execution_count": 111,
   "metadata": {
    "colab": {
     "base_uri": "https://localhost:8080/",
     "height": 1000
    },
    "colab_type": "code",
    "id": "hlwmLvkMmPlc",
    "outputId": "da03c257-4fb4-4df3-de88-7ad953f32047"
   },
   "outputs": [
    {
     "name": "stdout",
     "output_type": "stream",
     "text": [
      "[[ 771   20    4   92    0   23    5    0    2   16   10    0    0    1\n",
      "    25    3    0   26    6   32   19    2    6    2   35    3    6    5]\n",
      " [ 137   11    1    2    0    3    1    0    0    0    1    0    0    0\n",
      "     1    0    0    1    0    0    6    0    0    0    0    0    0    0]\n",
      " [  13    0   16   36    1   29    2    1    1   10   13    0    0    0\n",
      "    26    0    0   13    0   18   16    1   10    2   19    0    1    4]\n",
      " [  64    0    8  652    0  121    0    4    8   64   66    5    9    2\n",
      "    95    1    0   90    5   36   17   13   79    9   77   12   12   76]\n",
      " [   0    0    0    3  167   17    2    0    0    1    0    0    0    0\n",
      "     8    0    0    2    0    4    2    0    1    0    0    1    0    0]\n",
      " [  19    1    5  138   42  578   19   10   14   41   53   12   19   12\n",
      "   426    2    0   54   13  112   94    1  105   20   38    9   19   37]\n",
      " [   0    0    0    0    0   28   29    0    0    4    0    0    0    0\n",
      "    12    0    0    4    4    0   65    0    5    2    0    0    0    0]\n",
      " [   3    0    2    4    0    9    0   25    0    0    2    0    2   21\n",
      "    14    0    0    9    0   58    4    1    2    0    3    0    3    5]\n",
      " [   2    0    0    3    0   11    0    2   38    0    0    0    0    0\n",
      "    13    0    0    3    1  120    0    0   15    0    5    0    0    0]\n",
      " [  10    0    7   41    0   42    7    0    0  162    5    0    1    0\n",
      "    30    0    0   21    5    2   22    2   11    2   16    4    0    6]\n",
      " [  24    0    7  107    1   64    1    2    1    9   53    1    9    1\n",
      "    32    0    0   53    1   12   14    9   49    2   22    5    3   20]\n",
      " [   2    0    2    2    0    3    0    2    0    0    0  365    9    0\n",
      "     2    0    0   61    0    0    0    0    0    8    0    0    2    0]\n",
      " [   0    0    0    8    0   25    0    0    0    3    5    5   40    0\n",
      "     3    0    0   55    0    6    2    0    5    3    1    0   19    4]\n",
      " [   0    0    0    8    0   11    0   18    1    1    2    0    0   63\n",
      "    22    0    0    0    0   67    3    0   17    0    3    0    3    3]\n",
      " [  10    0    9   60   13  360    5   11   15   13   18    2    6   23\n",
      "  1196    4    1   36   13   81   39    1   47   10   41    3    6   26]\n",
      " [   0    0    0    0    0    0    0    0    0    0    0    0    0    0\n",
      "     0  350   64    0    2    0    6    0    3    0    2    0    2    0]\n",
      " [   0    0    0    0    0    0    0    0    0    0    0    0    0    0\n",
      "     0  118   45    0    0    0    4    0    0    0    0    0    1    0]\n",
      " [  37    1    2  105    2   92    2    3    4   28   20   64   26    0\n",
      "    73    2    0  449   10   57   28  144   34   34   60   62   31   34]\n",
      " [  11    0    1   21    0   42    7    0    0    4    5    0    0    0\n",
      "    39    0    1   14   14    4   41    0    5    1   13    0    3    8]\n",
      " [   9    0   13   29    1   59    0   30   28    3    6    0    1   29\n",
      "    42    1    0   19    0  479    6    0   45    3    3    0   10    4]\n",
      " [  30    1    7   18    1  100   38    3    4   11    8    1    7    8\n",
      "    39   13   20   19    6   29  146    1   23    8    3   16   13   12]\n",
      " [   3    0    1   14    0   12    0    3    0    0    9    2    3    1\n",
      "     8    0    0  172    1    2    4  211    2    1    5    0    6    3]\n",
      " [  19    0    1   93    2  161   15    2   18   14   28    0    9    3\n",
      "    58    1    1   26    5   92   61    1  152    8   12    4    9   32]\n",
      " [   6    0    0   13    0   42   10    0    0    6    5   19   12    1\n",
      "    29    2    0   48    1   10   27    0    9   34    6   55    5    5]\n",
      " [  36    0    5   94    0   91    1    1    1   13   15    2    1    1\n",
      "   109    9    1   58   11   10    6    5   18    2  110    9    6   22]\n",
      " [   2    0    1    9    1    8    0    0    0    4    2    0    0    1\n",
      "     7    0    0   50    0    2    3    0    3   19    8  150    2    4]\n",
      " [   4    0    3   11    1   43    4    7    5    4    4   23   25    2\n",
      "    15    1    1   83    3   25   19    2   15   18    7   30   28    7]\n",
      " [   6    0    7   89    0   59    0    1    0    4   14    1    3    0\n",
      "    54    0    0   25    4    2    6    3   30    2   20    2   11  124]]\n",
      "              precision    recall  f1-score   support\n",
      "\n",
      "           0       0.63      0.69      0.66      1114\n",
      "           1       0.32      0.07      0.11       164\n",
      "           2       0.16      0.07      0.10       232\n",
      "           3       0.39      0.43      0.41      1525\n",
      "           4       0.72      0.80      0.76       208\n",
      "           5       0.28      0.31      0.29      1893\n",
      "           6       0.20      0.19      0.19       153\n",
      "           7       0.20      0.15      0.17       167\n",
      "           8       0.27      0.18      0.22       213\n",
      "           9       0.39      0.41      0.40       396\n",
      "          10       0.15      0.11      0.13       502\n",
      "          11       0.73      0.80      0.76       458\n",
      "          12       0.22      0.22      0.22       184\n",
      "          13       0.37      0.28      0.32       222\n",
      "          14       0.50      0.58      0.54      2049\n",
      "          15       0.69      0.82      0.75       429\n",
      "          16       0.34      0.27      0.30       168\n",
      "          17       0.32      0.32      0.32      1404\n",
      "          18       0.13      0.06      0.08       234\n",
      "          19       0.38      0.58      0.46       820\n",
      "          20       0.22      0.25      0.23       585\n",
      "          21       0.53      0.46      0.49       463\n",
      "          22       0.22      0.18      0.20       827\n",
      "          23       0.18      0.10      0.13       345\n",
      "          24       0.22      0.17      0.19       637\n",
      "          25       0.41      0.54      0.47       276\n",
      "          26       0.14      0.07      0.09       390\n",
      "          27       0.28      0.27      0.27       467\n",
      "\n",
      "    accuracy                           0.39     16525\n",
      "   macro avg       0.34      0.33      0.33     16525\n",
      "weighted avg       0.37      0.39      0.38     16525\n",
      "\n",
      "0.3908018154311649\n"
     ]
    }
   ],
   "source": [
    "from sklearn.metrics import classification_report, confusion_matrix, accuracy_score\n",
    "\n",
    "print(confusion_matrix(y_cv,y_pred))\n",
    "print(classification_report(y_cv,y_pred))\n",
    "print(accuracy_score(y_cv, y_pred))"
   ]
  },
  {
   "cell_type": "code",
   "execution_count": 0,
   "metadata": {
    "colab": {},
    "colab_type": "code",
    "id": "tKR3r2TamR2k"
   },
   "outputs": [],
   "source": [
    "from sklearn.naive_bayes import GaussianNB\n",
    "nb = GaussianNB()"
   ]
  },
  {
   "cell_type": "code",
   "execution_count": 0,
   "metadata": {
    "colab": {},
    "colab_type": "code",
    "id": "ew1z9sb7uW9R"
   },
   "outputs": [],
   "source": [
    "nb.fit(X_train, y_train)\n",
    "y_pred = regressor.predict(X_cv)"
   ]
  },
  {
   "cell_type": "code",
   "execution_count": 114,
   "metadata": {
    "colab": {
     "base_uri": "https://localhost:8080/",
     "height": 1000
    },
    "colab_type": "code",
    "id": "XGkfSiI3uk8-",
    "outputId": "c7348f81-98a8-4361-e84a-baf319a5e21c"
   },
   "outputs": [
    {
     "name": "stdout",
     "output_type": "stream",
     "text": [
      "[[ 771   20    4   92    0   23    5    0    2   16   10    0    0    1\n",
      "    25    3    0   26    6   32   19    2    6    2   35    3    6    5]\n",
      " [ 137   11    1    2    0    3    1    0    0    0    1    0    0    0\n",
      "     1    0    0    1    0    0    6    0    0    0    0    0    0    0]\n",
      " [  13    0   16   36    1   29    2    1    1   10   13    0    0    0\n",
      "    26    0    0   13    0   18   16    1   10    2   19    0    1    4]\n",
      " [  64    0    8  652    0  121    0    4    8   64   66    5    9    2\n",
      "    95    1    0   90    5   36   17   13   79    9   77   12   12   76]\n",
      " [   0    0    0    3  167   17    2    0    0    1    0    0    0    0\n",
      "     8    0    0    2    0    4    2    0    1    0    0    1    0    0]\n",
      " [  19    1    5  138   42  578   19   10   14   41   53   12   19   12\n",
      "   426    2    0   54   13  112   94    1  105   20   38    9   19   37]\n",
      " [   0    0    0    0    0   28   29    0    0    4    0    0    0    0\n",
      "    12    0    0    4    4    0   65    0    5    2    0    0    0    0]\n",
      " [   3    0    2    4    0    9    0   25    0    0    2    0    2   21\n",
      "    14    0    0    9    0   58    4    1    2    0    3    0    3    5]\n",
      " [   2    0    0    3    0   11    0    2   38    0    0    0    0    0\n",
      "    13    0    0    3    1  120    0    0   15    0    5    0    0    0]\n",
      " [  10    0    7   41    0   42    7    0    0  162    5    0    1    0\n",
      "    30    0    0   21    5    2   22    2   11    2   16    4    0    6]\n",
      " [  24    0    7  107    1   64    1    2    1    9   53    1    9    1\n",
      "    32    0    0   53    1   12   14    9   49    2   22    5    3   20]\n",
      " [   2    0    2    2    0    3    0    2    0    0    0  365    9    0\n",
      "     2    0    0   61    0    0    0    0    0    8    0    0    2    0]\n",
      " [   0    0    0    8    0   25    0    0    0    3    5    5   40    0\n",
      "     3    0    0   55    0    6    2    0    5    3    1    0   19    4]\n",
      " [   0    0    0    8    0   11    0   18    1    1    2    0    0   63\n",
      "    22    0    0    0    0   67    3    0   17    0    3    0    3    3]\n",
      " [  10    0    9   60   13  360    5   11   15   13   18    2    6   23\n",
      "  1196    4    1   36   13   81   39    1   47   10   41    3    6   26]\n",
      " [   0    0    0    0    0    0    0    0    0    0    0    0    0    0\n",
      "     0  350   64    0    2    0    6    0    3    0    2    0    2    0]\n",
      " [   0    0    0    0    0    0    0    0    0    0    0    0    0    0\n",
      "     0  118   45    0    0    0    4    0    0    0    0    0    1    0]\n",
      " [  37    1    2  105    2   92    2    3    4   28   20   64   26    0\n",
      "    73    2    0  449   10   57   28  144   34   34   60   62   31   34]\n",
      " [  11    0    1   21    0   42    7    0    0    4    5    0    0    0\n",
      "    39    0    1   14   14    4   41    0    5    1   13    0    3    8]\n",
      " [   9    0   13   29    1   59    0   30   28    3    6    0    1   29\n",
      "    42    1    0   19    0  479    6    0   45    3    3    0   10    4]\n",
      " [  30    1    7   18    1  100   38    3    4   11    8    1    7    8\n",
      "    39   13   20   19    6   29  146    1   23    8    3   16   13   12]\n",
      " [   3    0    1   14    0   12    0    3    0    0    9    2    3    1\n",
      "     8    0    0  172    1    2    4  211    2    1    5    0    6    3]\n",
      " [  19    0    1   93    2  161   15    2   18   14   28    0    9    3\n",
      "    58    1    1   26    5   92   61    1  152    8   12    4    9   32]\n",
      " [   6    0    0   13    0   42   10    0    0    6    5   19   12    1\n",
      "    29    2    0   48    1   10   27    0    9   34    6   55    5    5]\n",
      " [  36    0    5   94    0   91    1    1    1   13   15    2    1    1\n",
      "   109    9    1   58   11   10    6    5   18    2  110    9    6   22]\n",
      " [   2    0    1    9    1    8    0    0    0    4    2    0    0    1\n",
      "     7    0    0   50    0    2    3    0    3   19    8  150    2    4]\n",
      " [   4    0    3   11    1   43    4    7    5    4    4   23   25    2\n",
      "    15    1    1   83    3   25   19    2   15   18    7   30   28    7]\n",
      " [   6    0    7   89    0   59    0    1    0    4   14    1    3    0\n",
      "    54    0    0   25    4    2    6    3   30    2   20    2   11  124]]\n",
      "              precision    recall  f1-score   support\n",
      "\n",
      "           0       0.63      0.69      0.66      1114\n",
      "           1       0.32      0.07      0.11       164\n",
      "           2       0.16      0.07      0.10       232\n",
      "           3       0.39      0.43      0.41      1525\n",
      "           4       0.72      0.80      0.76       208\n",
      "           5       0.28      0.31      0.29      1893\n",
      "           6       0.20      0.19      0.19       153\n",
      "           7       0.20      0.15      0.17       167\n",
      "           8       0.27      0.18      0.22       213\n",
      "           9       0.39      0.41      0.40       396\n",
      "          10       0.15      0.11      0.13       502\n",
      "          11       0.73      0.80      0.76       458\n",
      "          12       0.22      0.22      0.22       184\n",
      "          13       0.37      0.28      0.32       222\n",
      "          14       0.50      0.58      0.54      2049\n",
      "          15       0.69      0.82      0.75       429\n",
      "          16       0.34      0.27      0.30       168\n",
      "          17       0.32      0.32      0.32      1404\n",
      "          18       0.13      0.06      0.08       234\n",
      "          19       0.38      0.58      0.46       820\n",
      "          20       0.22      0.25      0.23       585\n",
      "          21       0.53      0.46      0.49       463\n",
      "          22       0.22      0.18      0.20       827\n",
      "          23       0.18      0.10      0.13       345\n",
      "          24       0.22      0.17      0.19       637\n",
      "          25       0.41      0.54      0.47       276\n",
      "          26       0.14      0.07      0.09       390\n",
      "          27       0.28      0.27      0.27       467\n",
      "\n",
      "    accuracy                           0.39     16525\n",
      "   macro avg       0.34      0.33      0.33     16525\n",
      "weighted avg       0.37      0.39      0.38     16525\n",
      "\n",
      "0.3908018154311649\n"
     ]
    }
   ],
   "source": [
    "from sklearn.metrics import classification_report, confusion_matrix, accuracy_score\n",
    "\n",
    "print(confusion_matrix(y_cv,y_pred))\n",
    "print(classification_report(y_cv,y_pred))\n",
    "print(accuracy_score(y_cv, y_pred))"
   ]
  },
  {
   "cell_type": "code",
   "execution_count": 0,
   "metadata": {
    "colab": {},
    "colab_type": "code",
    "id": "jwhLn02IvLv7"
   },
   "outputs": [],
   "source": [
    "# TO increase the accuracy I am adding two more \"one word review\" for the \"description review\""
   ]
  },
  {
   "cell_type": "code",
   "execution_count": 0,
   "metadata": {
    "colab": {},
    "colab_type": "code",
    "id": "473uoqHyMwZL"
   },
   "outputs": [],
   "source": [
    "def descriptions_to_word_2(rating):\n",
    "  if rating == 1:\n",
    "    return 'finish'\n",
    "  elif rating == 2:\n",
    "    return 'aroma'\n",
    "  elif rating == 3:\n",
    "    return 'fresh'\n",
    "  elif rating == 4:\n",
    "    return 'black cherry'\n",
    "  else:\n",
    "    return 'acidity'"
   ]
  },
  {
   "cell_type": "code",
   "execution_count": 0,
   "metadata": {
    "colab": {},
    "colab_type": "code",
    "id": "GMkdJH30NkwD"
   },
   "outputs": [],
   "source": [
    "def descriptions_to_word_3(rating):\n",
    "  if rating == 1:\n",
    "    return 'palate'\n",
    "  elif rating == 2:\n",
    "    return 'soft'\n",
    "  elif rating == 3:\n",
    "    return 'rich'\n",
    "  elif rating == 4:\n",
    "    return 'full bodied'\n",
    "  else:\n",
    "    return 'ripe'"
   ]
  },
  {
   "cell_type": "code",
   "execution_count": 0,
   "metadata": {
    "colab": {},
    "colab_type": "code",
    "id": "w8IyEKhoOWV2"
   },
   "outputs": [],
   "source": [
    "df['one_word_review_2'] = df[\"rating\"].apply(descriptions_to_word_2)"
   ]
  },
  {
   "cell_type": "code",
   "execution_count": 0,
   "metadata": {
    "colab": {},
    "colab_type": "code",
    "id": "hoaRQ4McOd97"
   },
   "outputs": [],
   "source": [
    "df['one_word_review_3'] = df[\"rating\"].apply(descriptions_to_word_3)"
   ]
  },
  {
   "cell_type": "code",
   "execution_count": 124,
   "metadata": {
    "colab": {
     "base_uri": "https://localhost:8080/",
     "height": 513
    },
    "colab_type": "code",
    "id": "3Omdui7ROh5q",
    "outputId": "eece86c9-ead8-4a15-814c-f7a8671327e1"
   },
   "outputs": [
    {
     "data": {
      "text/html": [
       "<div>\n",
       "<style scoped>\n",
       "    .dataframe tbody tr th:only-of-type {\n",
       "        vertical-align: middle;\n",
       "    }\n",
       "\n",
       "    .dataframe tbody tr th {\n",
       "        vertical-align: top;\n",
       "    }\n",
       "\n",
       "    .dataframe thead th {\n",
       "        text-align: right;\n",
       "    }\n",
       "</style>\n",
       "<table border=\"1\" class=\"dataframe\">\n",
       "  <thead>\n",
       "    <tr style=\"text-align: right;\">\n",
       "      <th></th>\n",
       "      <th>user_name</th>\n",
       "      <th>country</th>\n",
       "      <th>review_title</th>\n",
       "      <th>review_description</th>\n",
       "      <th>designation</th>\n",
       "      <th>points</th>\n",
       "      <th>price</th>\n",
       "      <th>province</th>\n",
       "      <th>region_1</th>\n",
       "      <th>region_2</th>\n",
       "      <th>winery</th>\n",
       "      <th>variety</th>\n",
       "      <th>rating</th>\n",
       "      <th>one_word_review</th>\n",
       "      <th>one_word_review_2</th>\n",
       "      <th>one_word_review_3</th>\n",
       "    </tr>\n",
       "  </thead>\n",
       "  <tbody>\n",
       "    <tr>\n",
       "      <th>0</th>\n",
       "      <td>NaN</td>\n",
       "      <td>Other</td>\n",
       "      <td>Andrew Peace 2007 Peace Family Vineyard Chardo...</td>\n",
       "      <td>Classic Chardonnay aromas of apple, pear and h...</td>\n",
       "      <td>Other</td>\n",
       "      <td>83</td>\n",
       "      <td>10.0</td>\n",
       "      <td>Other</td>\n",
       "      <td>Other</td>\n",
       "      <td>Other</td>\n",
       "      <td>Other</td>\n",
       "      <td>Chardonnay</td>\n",
       "      <td>2</td>\n",
       "      <td>finish</td>\n",
       "      <td>aroma</td>\n",
       "      <td>soft</td>\n",
       "    </tr>\n",
       "    <tr>\n",
       "      <th>1</th>\n",
       "      <td>@wawinereport</td>\n",
       "      <td>US</td>\n",
       "      <td>North by Northwest 2014 Red (Columbia Valley (...</td>\n",
       "      <td>This wine is near equal parts Syrah and Merlot...</td>\n",
       "      <td>Other</td>\n",
       "      <td>89</td>\n",
       "      <td>15.0</td>\n",
       "      <td>Washington</td>\n",
       "      <td>Columbia Valley (WA)</td>\n",
       "      <td>Columbia Valley</td>\n",
       "      <td>Other</td>\n",
       "      <td>Red Blend</td>\n",
       "      <td>3</td>\n",
       "      <td>note</td>\n",
       "      <td>fresh</td>\n",
       "      <td>rich</td>\n",
       "    </tr>\n",
       "    <tr>\n",
       "      <th>2</th>\n",
       "      <td>NaN</td>\n",
       "      <td>Italy</td>\n",
       "      <td>Renato Ratti 2007 Conca  (Barolo)</td>\n",
       "      <td>Barolo Conca opens with inky dark concentratio...</td>\n",
       "      <td>Other</td>\n",
       "      <td>94</td>\n",
       "      <td>80.0</td>\n",
       "      <td>Other</td>\n",
       "      <td>Barolo</td>\n",
       "      <td>Other</td>\n",
       "      <td>Other</td>\n",
       "      <td>Nebbiolo</td>\n",
       "      <td>5</td>\n",
       "      <td>fruit</td>\n",
       "      <td>acidity</td>\n",
       "      <td>ripe</td>\n",
       "    </tr>\n",
       "    <tr>\n",
       "      <th>3</th>\n",
       "      <td>@vossroger</td>\n",
       "      <td>France</td>\n",
       "      <td>Domaine l'Ancienne Cure 2010 L'Abbaye White (B...</td>\n",
       "      <td>It's impressive what a small addition of Sauvi...</td>\n",
       "      <td>Other</td>\n",
       "      <td>87</td>\n",
       "      <td>22.0</td>\n",
       "      <td>Other</td>\n",
       "      <td>Other</td>\n",
       "      <td>Other</td>\n",
       "      <td>Other</td>\n",
       "      <td>Bordeaux-style White Blend</td>\n",
       "      <td>3</td>\n",
       "      <td>note</td>\n",
       "      <td>fresh</td>\n",
       "      <td>rich</td>\n",
       "    </tr>\n",
       "    <tr>\n",
       "      <th>4</th>\n",
       "      <td>@vossroger</td>\n",
       "      <td>France</td>\n",
       "      <td>Château du Cèdre 2012 Le Cèdre Vintage Malbec ...</td>\n",
       "      <td>This ripe, sweet wine is rich and full of drie...</td>\n",
       "      <td>Other</td>\n",
       "      <td>88</td>\n",
       "      <td>33.0</td>\n",
       "      <td>Other</td>\n",
       "      <td>Other</td>\n",
       "      <td>Other</td>\n",
       "      <td>Other</td>\n",
       "      <td>Malbec</td>\n",
       "      <td>3</td>\n",
       "      <td>note</td>\n",
       "      <td>fresh</td>\n",
       "      <td>rich</td>\n",
       "    </tr>\n",
       "  </tbody>\n",
       "</table>\n",
       "</div>"
      ],
      "text/plain": [
       "       user_name country  ... one_word_review_2 one_word_review_3\n",
       "0            NaN   Other  ...             aroma              soft\n",
       "1  @wawinereport      US  ...             fresh              rich\n",
       "2            NaN   Italy  ...           acidity              ripe\n",
       "3     @vossroger  France  ...             fresh              rich\n",
       "4     @vossroger  France  ...             fresh              rich\n",
       "\n",
       "[5 rows x 16 columns]"
      ]
     },
     "execution_count": 124,
     "metadata": {
      "tags": []
     },
     "output_type": "execute_result"
    }
   ],
   "source": [
    "df.head()"
   ]
  },
  {
   "cell_type": "code",
   "execution_count": 0,
   "metadata": {
    "colab": {},
    "colab_type": "code",
    "id": "oQK1vxUAOjdS"
   },
   "outputs": [],
   "source": []
  },
  {
   "cell_type": "code",
   "execution_count": 0,
   "metadata": {
    "colab": {},
    "colab_type": "code",
    "id": "Uuj9E7HqOpOd"
   },
   "outputs": [],
   "source": [
    "X= df[['price','rating','one_word_review','one_word_review_2','one_word_review_3','country','province','region_1','region_2','points']]\n"
   ]
  },
  {
   "cell_type": "code",
   "execution_count": 216,
   "metadata": {
    "colab": {
     "base_uri": "https://localhost:8080/",
     "height": 419
    },
    "colab_type": "code",
    "id": "O5nZO69tOvYS",
    "outputId": "1ad06918-0cce-48ad-c5d2-fb8ba7d408b3"
   },
   "outputs": [
    {
     "data": {
      "text/html": [
       "<div>\n",
       "<style scoped>\n",
       "    .dataframe tbody tr th:only-of-type {\n",
       "        vertical-align: middle;\n",
       "    }\n",
       "\n",
       "    .dataframe tbody tr th {\n",
       "        vertical-align: top;\n",
       "    }\n",
       "\n",
       "    .dataframe thead th {\n",
       "        text-align: right;\n",
       "    }\n",
       "</style>\n",
       "<table border=\"1\" class=\"dataframe\">\n",
       "  <thead>\n",
       "    <tr style=\"text-align: right;\">\n",
       "      <th></th>\n",
       "      <th>price</th>\n",
       "      <th>rating</th>\n",
       "      <th>one_word_review</th>\n",
       "      <th>one_word_review_2</th>\n",
       "      <th>one_word_review_3</th>\n",
       "      <th>country</th>\n",
       "      <th>province</th>\n",
       "      <th>region_1</th>\n",
       "      <th>region_2</th>\n",
       "      <th>points</th>\n",
       "    </tr>\n",
       "  </thead>\n",
       "  <tbody>\n",
       "    <tr>\n",
       "      <th>0</th>\n",
       "      <td>10.0</td>\n",
       "      <td>2</td>\n",
       "      <td>finish</td>\n",
       "      <td>aroma</td>\n",
       "      <td>soft</td>\n",
       "      <td>Other</td>\n",
       "      <td>Other</td>\n",
       "      <td>Other</td>\n",
       "      <td>Other</td>\n",
       "      <td>83</td>\n",
       "    </tr>\n",
       "    <tr>\n",
       "      <th>1</th>\n",
       "      <td>15.0</td>\n",
       "      <td>3</td>\n",
       "      <td>note</td>\n",
       "      <td>fresh</td>\n",
       "      <td>rich</td>\n",
       "      <td>US</td>\n",
       "      <td>Washington</td>\n",
       "      <td>Columbia Valley (WA)</td>\n",
       "      <td>Columbia Valley</td>\n",
       "      <td>89</td>\n",
       "    </tr>\n",
       "    <tr>\n",
       "      <th>2</th>\n",
       "      <td>80.0</td>\n",
       "      <td>5</td>\n",
       "      <td>fruit</td>\n",
       "      <td>acidity</td>\n",
       "      <td>ripe</td>\n",
       "      <td>Italy</td>\n",
       "      <td>Other</td>\n",
       "      <td>Barolo</td>\n",
       "      <td>Other</td>\n",
       "      <td>94</td>\n",
       "    </tr>\n",
       "    <tr>\n",
       "      <th>3</th>\n",
       "      <td>22.0</td>\n",
       "      <td>3</td>\n",
       "      <td>note</td>\n",
       "      <td>fresh</td>\n",
       "      <td>rich</td>\n",
       "      <td>France</td>\n",
       "      <td>Other</td>\n",
       "      <td>Other</td>\n",
       "      <td>Other</td>\n",
       "      <td>87</td>\n",
       "    </tr>\n",
       "    <tr>\n",
       "      <th>4</th>\n",
       "      <td>33.0</td>\n",
       "      <td>3</td>\n",
       "      <td>note</td>\n",
       "      <td>fresh</td>\n",
       "      <td>rich</td>\n",
       "      <td>France</td>\n",
       "      <td>Other</td>\n",
       "      <td>Other</td>\n",
       "      <td>Other</td>\n",
       "      <td>88</td>\n",
       "    </tr>\n",
       "    <tr>\n",
       "      <th>...</th>\n",
       "      <td>...</td>\n",
       "      <td>...</td>\n",
       "      <td>...</td>\n",
       "      <td>...</td>\n",
       "      <td>...</td>\n",
       "      <td>...</td>\n",
       "      <td>...</td>\n",
       "      <td>...</td>\n",
       "      <td>...</td>\n",
       "      <td>...</td>\n",
       "    </tr>\n",
       "    <tr>\n",
       "      <th>82652</th>\n",
       "      <td>12.0</td>\n",
       "      <td>2</td>\n",
       "      <td>finish</td>\n",
       "      <td>aroma</td>\n",
       "      <td>soft</td>\n",
       "      <td>Spain</td>\n",
       "      <td>Other</td>\n",
       "      <td>Other</td>\n",
       "      <td>Other</td>\n",
       "      <td>84</td>\n",
       "    </tr>\n",
       "    <tr>\n",
       "      <th>82653</th>\n",
       "      <td>21.0</td>\n",
       "      <td>2</td>\n",
       "      <td>finish</td>\n",
       "      <td>aroma</td>\n",
       "      <td>soft</td>\n",
       "      <td>US</td>\n",
       "      <td>Other</td>\n",
       "      <td>Other</td>\n",
       "      <td>Other</td>\n",
       "      <td>85</td>\n",
       "    </tr>\n",
       "    <tr>\n",
       "      <th>82654</th>\n",
       "      <td>14.0</td>\n",
       "      <td>3</td>\n",
       "      <td>note</td>\n",
       "      <td>fresh</td>\n",
       "      <td>rich</td>\n",
       "      <td>France</td>\n",
       "      <td>Other</td>\n",
       "      <td>Other</td>\n",
       "      <td>Other</td>\n",
       "      <td>87</td>\n",
       "    </tr>\n",
       "    <tr>\n",
       "      <th>82655</th>\n",
       "      <td>20.0</td>\n",
       "      <td>4</td>\n",
       "      <td>rich</td>\n",
       "      <td>black cherry</td>\n",
       "      <td>full bodied</td>\n",
       "      <td>France</td>\n",
       "      <td>Bordeaux</td>\n",
       "      <td>Other</td>\n",
       "      <td>Other</td>\n",
       "      <td>91</td>\n",
       "    </tr>\n",
       "    <tr>\n",
       "      <th>82656</th>\n",
       "      <td>50.0</td>\n",
       "      <td>4</td>\n",
       "      <td>rich</td>\n",
       "      <td>black cherry</td>\n",
       "      <td>full bodied</td>\n",
       "      <td>US</td>\n",
       "      <td>California</td>\n",
       "      <td>Other</td>\n",
       "      <td>Napa</td>\n",
       "      <td>92</td>\n",
       "    </tr>\n",
       "  </tbody>\n",
       "</table>\n",
       "<p>82622 rows × 10 columns</p>\n",
       "</div>"
      ],
      "text/plain": [
       "       price  rating  ...         region_2 points\n",
       "0       10.0       2  ...            Other     83\n",
       "1       15.0       3  ...  Columbia Valley     89\n",
       "2       80.0       5  ...            Other     94\n",
       "3       22.0       3  ...            Other     87\n",
       "4       33.0       3  ...            Other     88\n",
       "...      ...     ...  ...              ...    ...\n",
       "82652   12.0       2  ...            Other     84\n",
       "82653   21.0       2  ...            Other     85\n",
       "82654   14.0       3  ...            Other     87\n",
       "82655   20.0       4  ...            Other     91\n",
       "82656   50.0       4  ...             Napa     92\n",
       "\n",
       "[82622 rows x 10 columns]"
      ]
     },
     "execution_count": 216,
     "metadata": {
      "tags": []
     },
     "output_type": "execute_result"
    }
   ],
   "source": [
    "X_2 =X\n",
    "X_2"
   ]
  },
  {
   "cell_type": "code",
   "execution_count": 0,
   "metadata": {
    "colab": {},
    "colab_type": "code",
    "id": "cEgwGHjhO5IJ"
   },
   "outputs": [],
   "source": [
    "X_2 = pd.get_dummies(X_2, columns=['one_word_review','one_word_review_2','one_word_review_3','country','province','region_1','region_2'])"
   ]
  },
  {
   "cell_type": "code",
   "execution_count": 0,
   "metadata": {
    "colab": {},
    "colab_type": "code",
    "id": "2TmuRokUO9Zy"
   },
   "outputs": [],
   "source": []
  },
  {
   "cell_type": "code",
   "execution_count": 0,
   "metadata": {
    "colab": {},
    "colab_type": "code",
    "id": "1Mn6vSvtPBNN"
   },
   "outputs": [],
   "source": [
    "\n",
    "from sklearn.model_selection import train_test_split\n",
    "X_train, X_cv, y_train, y_cv = train_test_split(X_2, y, test_size = 0.2, random_state = 0)"
   ]
  },
  {
   "cell_type": "markdown",
   "metadata": {
    "colab_type": "text",
    "id": "INmudDgcP-ne"
   },
   "source": []
  },
  {
   "cell_type": "code",
   "execution_count": 0,
   "metadata": {
    "colab": {},
    "colab_type": "code",
    "id": "_Ru4BcwOPbKF"
   },
   "outputs": [],
   "source": [
    "from sklearn.ensemble import RandomForestClassifier\n",
    "\n",
    "regressor = RandomForestClassifier(n_estimators=20, random_state=0)\n",
    "regressor.fit(X_train, y_train)\n",
    "y_pred = regressor.predict(X_cv)"
   ]
  },
  {
   "cell_type": "code",
   "execution_count": 222,
   "metadata": {
    "colab": {
     "base_uri": "https://localhost:8080/",
     "height": 1000
    },
    "colab_type": "code",
    "id": "y7e0cPixPhGW",
    "outputId": "e618dd88-591a-4a9b-93a7-93d38727716b"
   },
   "outputs": [
    {
     "name": "stdout",
     "output_type": "stream",
     "text": [
      "[[ 773   15    6   95    0   22    5    1    2   16   12    0    0    2\n",
      "    21    3    0   29    6   31   18    3    5    2   32    3    6    6]\n",
      " [ 139    9    1    3    0    2    1    0    0    0    0    0    0    0\n",
      "     1    0    0    1    0    0    6    0    0    0    1    0    0    0]\n",
      " [  14    0   11   38    1   32    2    1    1    9   12    0    0    0\n",
      "    26    0    0   14    0   19   15    0   10    2   17    1    1    6]\n",
      " [  62    0   13  656    0  121    0    4    7   62   59    3    9    2\n",
      "    96    2    0   92    7   40   18   13   80   12   74   10   12   71]\n",
      " [   0    0    0    2  167   17    2    0    0    1    0    0    0    0\n",
      "     9    0    0    2    0    4    1    0    2    0    0    1    0    0]\n",
      " [  18    1    5  135   43  584   19   10   15   40   48   12   20   13\n",
      "   424    2    0   53   17  112   90    1  117   17   33   10   18   36]\n",
      " [   0    0    0    0    0   28   29    0    0    4    0    0    0    0\n",
      "    12    0    0    4    4    0   65    0    5    2    0    0    0    0]\n",
      " [   2    0    3    3    0   12    0   27    0    0    2    0    2   20\n",
      "    13    0    0    8    0   56    4    1    3    0    3    0    3    5]\n",
      " [   2    0    0    4    0   12    0    2   35    0    0    0    0    0\n",
      "    11    0    0    3    1  124    0    0   15    0    4    0    0    0]\n",
      " [  11    0    9   52    0   42    7    0    0  158    2    0    2    0\n",
      "    28    0    0   20    4    2   22    1   12    2   12    3    0    7]\n",
      " [  22    0    6  111    1   65    1    2    1    9   48    0    9    1\n",
      "    31    0    0   51    5   16   13    9   55    2   17    4    3   20]\n",
      " [   2    0    2    2    0    3    0    2    0    0    0  364   10    0\n",
      "     2    0    0   62    0    0    0    0    0    8    0    0    1    0]\n",
      " [   0    0    0    8    0   25    0    0    0    4    5    4   40    0\n",
      "     3    0    0   56    0    6    2    0    5    3    0    0   19    4]\n",
      " [   0    0    0    7    0   14    0   17    1    1    2    0    0   62\n",
      "    24    0    0    0    0   66    2    0   16    0    3    0    3    4]\n",
      " [  10    0    7   63   14  358    5   10   15   13   16    1    6   25\n",
      "  1193    4    1   32   14   87   39    1   42   11   43    3    6   30]\n",
      " [   0    0    0    0    0    0    0    0    0    0    0    0    0    0\n",
      "     0  353   63    0    0    0    7    0    3    0    1    0    2    0]\n",
      " [   0    0    0    0    0    0    0    0    0    0    0    0    0    0\n",
      "     0  122   41    0    0    0    4    0    0    0    0    0    1    0]\n",
      " [  34    1    5  112    2   88    2    3    3   26   22   58   27    1\n",
      "    75    2    0  452    9   60   29  137   33   37   58   66   30   32]\n",
      " [  10    0    1   23    0   43    7    0    0    4    8    0    0    0\n",
      "    38    0    1   12   14    4   41    0    5    1   12    0    3    7]\n",
      " [  10    0   11   33    1   64    0   33   28    3    5    0    1   31\n",
      "    43    1    0   20    0  466    6    0   43    3    3    0   11    4]\n",
      " [  30    1    6   19    1   96   38    2    4   11    6    1    7    9\n",
      "    39   14   19   19    7   29  146    2   24    8    6   16   13   12]\n",
      " [   3    0    2   11    0   13    0    3    0    0   13    2    3    1\n",
      "     6    0    0  181    1    2    3  198    2    2    6    0    7    4]\n",
      " [  19    0    2  103    2  167   15    5   16   12   23    0   11    4\n",
      "    56    1    1   26    5   93   59    1  144    8    8    4    8   34]\n",
      " [   6    0    0   14    0   43   10    0    0    6    5   17   12    0\n",
      "    29    2    0   48    1   10   27    0    9   34    6   56    5    5]\n",
      " [  32    0    6  103    0   91    1    2    1   15   18    2    1    1\n",
      "   109    8    2   55    9    9    5    5   19    2  108   10    4   19]\n",
      " [   1    0    3   10    1    7    0    0    0    3    3    0    0    1\n",
      "    10    0    0   45    0    1    2    0    3   18    8  155    2    3]\n",
      " [   4    0    1   12    1   44    4    7    5    4    6   19   25    2\n",
      "    15    1    1   88    3   25   18    2   15   18    7   29   28    6]\n",
      " [   6    0    6   88    0   58    0    2    0    1   21    1    6    0\n",
      "    56    0    0   23    3    2    5    3   33    2   23    1   11  116]]\n",
      "              precision    recall  f1-score   support\n",
      "\n",
      "           0       0.64      0.69      0.67      1114\n",
      "           1       0.33      0.05      0.09       164\n",
      "           2       0.10      0.05      0.07       232\n",
      "           3       0.38      0.43      0.41      1525\n",
      "           4       0.71      0.80      0.76       208\n",
      "           5       0.28      0.31      0.30      1893\n",
      "           6       0.20      0.19      0.19       153\n",
      "           7       0.20      0.16      0.18       167\n",
      "           8       0.26      0.16      0.20       213\n",
      "           9       0.39      0.40      0.40       396\n",
      "          10       0.14      0.10      0.11       502\n",
      "          11       0.75      0.79      0.77       458\n",
      "          12       0.21      0.22      0.21       184\n",
      "          13       0.35      0.28      0.31       222\n",
      "          14       0.50      0.58      0.54      2049\n",
      "          15       0.69      0.82      0.75       429\n",
      "          16       0.32      0.24      0.28       168\n",
      "          17       0.32      0.32      0.32      1404\n",
      "          18       0.13      0.06      0.08       234\n",
      "          19       0.37      0.57      0.45       820\n",
      "          20       0.23      0.25      0.24       585\n",
      "          21       0.53      0.43      0.47       463\n",
      "          22       0.21      0.17      0.19       827\n",
      "          23       0.18      0.10      0.13       345\n",
      "          24       0.22      0.17      0.19       637\n",
      "          25       0.42      0.56      0.48       276\n",
      "          26       0.14      0.07      0.10       390\n",
      "          27       0.27      0.25      0.26       467\n",
      "\n",
      "    accuracy                           0.39     16525\n",
      "   macro avg       0.34      0.33      0.33     16525\n",
      "weighted avg       0.37      0.39      0.37     16525\n",
      "\n",
      "0.3879576399394856\n"
     ]
    }
   ],
   "source": [
    "from sklearn.metrics import classification_report, confusion_matrix, accuracy_score\n",
    "\n",
    "print(confusion_matrix(y_cv,y_pred))\n",
    "print(classification_report(y_cv,y_pred))\n",
    "print(accuracy_score(y_cv, y_pred))"
   ]
  },
  {
   "cell_type": "code",
   "execution_count": null,
   "metadata": {
    "colab": {
     "base_uri": "https://localhost:8080/",
     "height": 221
    },
    "colab_type": "code",
    "id": "dFHNyyGNPo0y",
    "outputId": "ea5a9982-540f-4051-f786-7d042a704903"
   },
   "outputs": [],
   "source": []
  },
  {
   "cell_type": "code",
   "execution_count": 0,
   "metadata": {
    "colab": {},
    "colab_type": "code",
    "id": "ZT1CJzVoWrwf"
   },
   "outputs": [],
   "source": [
    "\n",
    "\n"
   ]
  },
  {
   "cell_type": "code",
   "execution_count": 0,
   "metadata": {
    "colab": {},
    "colab_type": "code",
    "id": "3s1UxkWLXAtF"
   },
   "outputs": [],
   "source": []
  }
 ],
 "metadata": {
  "colab": {
   "collapsed_sections": [],
   "name": "Model Building.ipynb",
   "provenance": []
  },
  "kernelspec": {
   "display_name": "Python 3",
   "language": "python",
   "name": "python3"
  },
  "language_info": {
   "codemirror_mode": {
    "name": "ipython",
    "version": 3
   },
   "file_extension": ".py",
   "mimetype": "text/x-python",
   "name": "python",
   "nbconvert_exporter": "python",
   "pygments_lexer": "ipython3",
   "version": "3.7.3"
  }
 },
 "nbformat": 4,
 "nbformat_minor": 1
}
